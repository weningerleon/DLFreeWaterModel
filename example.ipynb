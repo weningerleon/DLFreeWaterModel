{
 "cells": [
  {
   "cell_type": "code",
   "execution_count": 1,
   "metadata": {
    "collapsed": true,
    "pycharm": {
     "is_executing": false
    }
   },
   "outputs": [],
   "source": [
    "import matplotlib.pyplot as plt\n",
    "%matplotlib inline\n",
    "\n",
    "from dipy.io.image import save_nifti\n",
    "import numpy as np\n",
    "from dipy.data import read_stanford_hardi, read_stanford_pve_maps\n",
    "import torch\n",
    "import torch.nn as nn\n",
    "from dipy.segment.mask import median_otsu\n",
    "\n",
    "from scipy.ndimage.morphology import binary_erosion\n",
    "\n",
    "import difreewater"
   ]
  },
  {
   "cell_type": "markdown",
   "source": [
    "### Load data"
   ],
   "metadata": {
    "collapsed": false
   }
  },
  {
   "cell_type": "code",
   "execution_count": 2,
   "outputs": [
    {
     "name": "stdout",
     "text": [
      "Dataset is already in place. If you want to fetch it again please first remove the folder /Users/leon/.dipy/stanford_hardi \n",
      "Dataset is already in place. If you want to fetch it again please first remove the folder /Users/leon/.dipy/stanford_hardi \n"
     ],
     "output_type": "stream"
    }
   ],
   "source": [
    "# Diffusion weighted data\n",
    "img, gtab = read_stanford_hardi()\n",
    "dwi = img.get_data()\n",
    "\n",
    "# Segmentation maps\n",
    "(csf, gm, wm) = [map.get_data()==1.0 for map in read_stanford_pve_maps()]\n",
    "\n",
    "# The provided segmentation maps are quite noisy in the lower parts of the brain, so we clip the segmentation maps \n",
    "# at z=25, and use only the ventricles for CSF data.\n",
    "v_mask = np.zeros(csf.shape)\n",
    "(x,y,z) = np.divide(csf.shape,2).astype(np.int)\n",
    "v_mask[x-15:x+15,y-20:y+20,z-5:z+5] = 1\n",
    "csf = np.logical_and(csf, v_mask)\n",
    "\n",
    "wm[:,:,:25] = 0\n",
    "gm[:,:,:25] = 0\n",
    "\n",
    "# Erode the maps so obtained exemplary voxels are not contaminated by other tissue\n",
    "csf, gm, wm = [binary_erosion(map) for map in (csf, gm, wm)]\n",
    "\n",
    "maskdata, mask = median_otsu(dwi, vol_idx=range(10, 50), median_radius=3,\n",
    "                             numpass=1, autocrop=True, dilate=2)"
   ],
   "metadata": {
    "collapsed": false,
    "pycharm": {
     "name": "#%% Load necessary data\n",
     "is_executing": false
    }
   }
  },
  {
   "cell_type": "markdown",
   "source": [
    "### Create the synthetic training data set"
   ],
   "metadata": {
    "collapsed": false,
    "pycharm": {
     "name": "#%% md\n"
    }
   }
  },
  {
   "cell_type": "code",
   "execution_count": 9,
   "outputs": [],
   "source": [
    "synDataLoader = difreewater.SynDiffData(gtab, dwi, csf_mask=csf, gm_mask=gm, wm_mask=wm)\n",
    "syn_diff_data, water_fraction = synDataLoader.create_waterfraction_data(sample_size=2500) # this may take a while"
   ],
   "metadata": {
    "collapsed": false,
    "pycharm": {
     "name": "#%% Create synthetic data\n",
     "is_executing": false
    }
   }
  },
  {
   "cell_type": "markdown",
   "source": [
    "### Neural network training"
   ],
   "metadata": {
    "collapsed": false,
    "pycharm": {
     "name": "#%% md\n"
    }
   }
  },
  {
   "cell_type": "code",
   "execution_count": 10,
   "outputs": [
    {
     "name": "stdout",
     "text": [
      "Epoch 0: MSE=0.014732442650228035, ME=0.0894858620603815\n",
      "Epoch 10: MSE=0.0015963460702526477, ME=0.03225342698714217\n",
      "Epoch 20: MSE=0.0010291500857171649, ME=0.024594103613029567\n",
      "Epoch 30: MSE=0.001018703681462355, ME=0.024478367185653938\n",
      "Epoch 40: MSE=0.0010359418234593895, ME=0.02470907924766562\n",
      "Epoch 50: MSE=0.001053637901972898, ME=0.02496456768979497\n",
      "Epoch 60: MSE=0.0010614694621613216, ME=0.025044347965494356\n",
      "Epoch 70: MSE=0.0010689435138765769, ME=0.025144255291207975\n",
      "Epoch 80: MSE=0.0010774657857815766, ME=0.025273297947922792\n",
      "Epoch 90: MSE=0.0010882329003159847, ME=0.02539457429233251\n"
     ],
     "output_type": "stream"
    }
   ],
   "source": [
    "net = difreewater.learning.DifreewaterNet(synDataLoader.datashape, 1)\n",
    "\n",
    "optimizer = torch.optim.Adam(net.parameters(), lr=0.005)\n",
    "num_epochs = 100\n",
    "criterion = nn.MSELoss()\n",
    "\n",
    "mse, me = difreewater.learning.train(syn_diff_data, water_fraction, net, criterion, num_epochs, optimizer)"
   ],
   "metadata": {
    "collapsed": false,
    "pycharm": {
     "name": "#%% \n",
     "is_executing": false
    }
   }
  },
  {
   "cell_type": "markdown",
   "source": [
    "### Predict and correct the water fraction in the original data"
   ],
   "metadata": {
    "collapsed": false,
    "pycharm": {
     "name": "#%% md\n"
    }
   }
  },
  {
   "cell_type": "code",
   "execution_count": 11,
   "outputs": [
    {
     "name": "stderr",
     "text": [
      "/Users/leon/PycharmProjects/fwe_public/difreewater/syn_data.py:188: RuntimeWarning: divide by zero encountered in true_divide\n",
      "  edw = voxels / np.expand_dims(S0, axis=1)\n",
      "/Users/leon/PycharmProjects/fwe_public/difreewater/syn_data.py:188: RuntimeWarning: invalid value encountered in true_divide\n",
      "  edw = voxels / np.expand_dims(S0, axis=1)\n",
      "/Users/leon/PycharmProjects/fwe_public/difreewater/water_correction.py:15: RuntimeWarning: divide by zero encountered in true_divide\n",
      "  S_orig = np.divide(S_orig, b0)\n",
      "/Users/leon/PycharmProjects/fwe_public/difreewater/water_correction.py:15: RuntimeWarning: invalid value encountered in true_divide\n",
      "  S_orig = np.divide(S_orig, b0)\n",
      "/Users/leon/PycharmProjects/fwe_public/difreewater/water_correction.py:28: RuntimeWarning: divide by zero encountered in true_divide\n",
      "  S_corr = np.divide(S_orig - S_watercompartment, np.expand_dims(1-f, axis=1))\n",
      "/Users/leon/PycharmProjects/fwe_public/difreewater/water_correction.py:30: RuntimeWarning: invalid value encountered in multiply\n",
      "  S_corr = np.multiply(S_corr, b0)\n",
      "/Users/leon/PycharmProjects/fwe_public/difreewater/water_correction.py:32: RuntimeWarning: invalid value encountered in less\n",
      "  S_corr[S_corr<0] = 0\n"
     ],
     "output_type": "stream"
    }
   ],
   "source": [
    "f_fw_predicted, dwi_water_corrected = difreewater.dehydrate(maskdata, mask, synDataLoader, net)"
   ],
   "metadata": {
    "collapsed": false,
    "pycharm": {
     "name": "#%%\n",
     "is_executing": false
    }
   }
  },
  {
   "cell_type": "markdown",
   "source": [
    "### Visualizations and save data"
   ],
   "metadata": {
    "collapsed": false,
    "pycharm": {
     "name": "#%% md\n"
    }
   }
  },
  {
   "cell_type": "code",
   "execution_count": 12,
   "outputs": [
    {
     "data": {
      "text/plain": "<Figure size 1440x720 with 3 Axes>",
      "image/png": "[encoded data removed]"
     },
     "metadata": {
      "needs_background": "light"
     },
     "output_type": "display_data"
    }
   ],
   "source": [
    "plt.rcParams[\"figure.figsize\"] = (20,10)\n",
    "plt.figure('water fraction')\n",
    "plt.subplot(1, 3, 1)\n",
    "plt.imshow(f_fw_predicted[:,:,30].T, cmap='gray')\n",
    "plt.subplot(1, 3, 2)\n",
    "plt.imshow(f_fw_predicted[:,40,:].T, origin='lower', cmap='gray')\n",
    "plt.subplot(1, 3, 3)\n",
    "plt.imshow(f_fw_predicted[30,:,:].T, origin='lower', cmap='gray')\n",
    "\n",
    "save_nifti(\"f_fw.nii.gz\", f_fw_predicted, img.affine)\n",
    "save_nifti(\"dwi_fwe.nii.gz\", dwi_water_corrected, img.affine)"
   ],
   "metadata": {
    "collapsed": false,
    "pycharm": {
     "name": "#%%\n",
     "is_executing": false
    }
   }
  },
  {
   "cell_type": "code",
   "execution_count": null,
   "outputs": [],
   "source": [
    "\n"
   ],
   "metadata": {
    "collapsed": false,
    "pycharm": {
     "name": "#%%\n"
    }
   }
  }
 ],
 "metadata": {
  "kernelspec": {
   "display_name": "Python 3",
   "language": "python",
   "name": "python3"
  },
  "language_info": {
   "codemirror_mode": {
    "name": "ipython",
    "version": 2
   },
   "file_extension": ".py",
   "mimetype": "text/x-python",
   "name": "python",
   "nbconvert_exporter": "python",
   "pygments_lexer": "ipython2",
   "version": "2.7.6"
  },
  "pycharm": {
   "stem_cell": {
    "cell_type": "raw",
    "source": [],
    "metadata": {
     "collapsed": false
    }
   }
  }
 },
 "nbformat": 4,
 "nbformat_minor": 0
}