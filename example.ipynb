{
 "cells": [
  {
   "cell_type": "code",
   "execution_count": 3,
   "metadata": {
    "collapsed": true,
    "pycharm": {
     "is_executing": false
    }
   },
   "outputs": [],
   "source": [
    "import matplotlib.pyplot as plt\n",
    "%matplotlib inline\n",
    "from dipy.io.image import save_nifti\n",
    "import numpy as np\n",
    "import learning\n",
    "from dipy.data import read_stanford_hardi, read_stanford_pve_maps\n",
    "import torch\n",
    "import torch.nn as nn\n",
    "from syn_data import SynDiffData\n",
    "from water_correction import dehydrate\n",
    "from dipy.segment.mask import median_otsu\n",
    "\n",
    "from scipy.ndimage.morphology import binary_erosion"
   ]
  },
  {
   "cell_type": "code",
   "execution_count": 4,
   "outputs": [
    {
     "name": "stdout",
     "text": [
      "Dataset is already in place. If you want to fetch it again please first remove the folder /Users/leon/.dipy/stanford_hardi \n",
      "Dataset is already in place. If you want to fetch it again please first remove the folder /Users/leon/.dipy/stanford_hardi \n"
     ],
     "output_type": "stream"
    }
   ],
   "source": [
    "img, gtab = read_stanford_hardi()\n",
    "dwi = img.get_data()\n",
    "(csf, gm, wm) = [map.get_data()==1.0 for map in read_stanford_pve_maps()]\n",
    "\n",
    "v_mask = np.zeros(csf.shape)\n",
    "(x,y,z) = np.divide(csf.shape,2).astype(np.int)\n",
    "v_mask[x-15:x+15,y-20:y+20,z-5:z+5] = 1\n",
    "csf = np.logical_and(csf, v_mask)\n",
    "\n",
    "wm[:,:,:25] = 0\n",
    "gm[:,:,:25] = 0\n",
    "\n",
    "csf, gm, wm = [binary_erosion(map) for map in (csf, gm, wm)]\n",
    "\n",
    "save_nifti('csf', csf.astype(np.int), np.eye(4))\n",
    "save_nifti('gm', gm.astype(np.int), np.eye(4))\n",
    "save_nifti('wm', wm.astype(np.int), np.eye(4))\n",
    "save_nifti('dwi', dwi, np.eye(4))\n",
    "\n",
    "\n",
    "maskdata, mask = median_otsu(dwi, vol_idx=range(10, 50), median_radius=3,\n",
    "                             numpass=1, autocrop=True, dilate=2)"
   ],
   "metadata": {
    "collapsed": false,
    "pycharm": {
     "name": "#%% Load necessary data\n",
     "is_executing": false
    }
   }
  },
  {
   "cell_type": "code",
   "execution_count": 5,
   "outputs": [
    {
     "name": "stdout",
     "text": [
      "Epoch 0: MSE=0.002400724662037828, ME=0.04113898751269893\n",
      "Epoch 10: MSE=0.0023170293758813985, ME=0.04157014043072388\n",
      "Epoch 20: MSE=0.0014130659938982135, ME=0.030904254371824025\n",
      "Epoch 30: MSE=0.001308921644078815, ME=0.02950423928507629\n",
      "Epoch 40: MSE=0.0010595695863147142, ME=0.02592186750724985\n",
      "Epoch 50: MSE=0.0010735346189865715, ME=0.026089797002196866\n",
      "Epoch 60: MSE=0.0010806930913777582, ME=0.02622597265846884\n",
      "Epoch 70: MSE=0.0009974167286169009, ME=0.024970935276795586\n",
      "Epoch 80: MSE=0.0009328404000152389, ME=0.0239456428498183\n",
      "Epoch 90: MSE=0.0008780132175766372, ME=0.02297759994816689\n"
     ],
     "output_type": "stream"
    },
    {
     "data": {
      "text/plain": "(0.0008780132175766372, 0.02297759994816689)"
     },
     "metadata": {},
     "output_type": "execute_result",
     "execution_count": 5
    }
   ],
   "source": [
    "synDataLoader = SynDiffData(gtab, dwi, csf_mask=csf, gm_mask=gm, wm_mask=wm)\n",
    "syn_diff_data, water_fraction = synDataLoader.create_waterfraction_data(sample_size=25000) # this may take a while\n",
    "\n",
    "net = learning.Net(synDataLoader.datashape, 1)\n",
    "\n",
    "optimizer = torch.optim.Adam(net.parameters(), lr=0.005)\n",
    "num_epochs = 100\n",
    "criterion = nn.MSELoss()\n",
    "\n",
    "learning.train(syn_diff_data, water_fraction, net, criterion, num_epochs, optimizer)"
   ],
   "metadata": {
    "collapsed": false,
    "pycharm": {
     "name": "#%% Create synthetic dat\n",
     "is_executing": false
    }
   }
  },
  {
   "cell_type": "code",
   "execution_count": 6,
   "outputs": [
    {
     "name": "stderr",
     "text": [
      "/Users/leon/PycharmProjects/fwe_public/syn_data.py:188: RuntimeWarning: divide by zero encountered in true_divide\n  edw = voxels / np.expand_dims(S0, axis=1)\n/Users/leon/PycharmProjects/fwe_public/syn_data.py:188: RuntimeWarning: invalid value encountered in true_divide\n  edw = voxels / np.expand_dims(S0, axis=1)\n",
      "/Users/leon/PycharmProjects/fwe_public/water_correction.py:15: RuntimeWarning: divide by zero encountered in true_divide\n  S_orig = np.divide(S_orig, b0)\n/Users/leon/PycharmProjects/fwe_public/water_correction.py:15: RuntimeWarning: invalid value encountered in true_divide\n  S_orig = np.divide(S_orig, b0)\n",
      "/Users/leon/PycharmProjects/fwe_public/water_correction.py:28: RuntimeWarning: divide by zero encountered in true_divide\n  S_corr = np.divide(S_orig - S_watercompartment, np.expand_dims(1-f, axis=1))\n/Users/leon/PycharmProjects/fwe_public/water_correction.py:30: RuntimeWarning: invalid value encountered in multiply\n  S_corr = np.multiply(S_corr, b0)\n",
      "/Users/leon/PycharmProjects/fwe_public/water_correction.py:32: RuntimeWarning: invalid value encountered in less\n  S_corr[S_corr<0] = 0\n"
     ],
     "output_type": "stream"
    }
   ],
   "source": [
    "water_fraction, water_corrected = dehydrate(maskdata, mask, synDataLoader, net)"
   ],
   "metadata": {
    "collapsed": false,
    "pycharm": {
     "name": "#%%\n",
     "is_executing": false
    }
   }
  },
  {
   "cell_type": "code",
   "execution_count": 7,
   "outputs": [
    {
     "data": {
      "text/plain": "<Figure size 432x288 with 1 Axes>",
      "image/png": "[encoded data removed]"
     },
     "metadata": {
      "needs_background": "light"
     },
     "output_type": "display_data"
    }
   ],
   "source": [
    "plt.figure('water fraction')\n",
    "plt.imshow(water_fraction[:,:,30].T, cmap='gray')\n",
    "plt.show()"
   ],
   "metadata": {
    "collapsed": false,
    "pycharm": {
     "name": "#%%\n",
     "is_executing": false
    }
   }
  }
 ],
 "metadata": {
  "kernelspec": {
   "display_name": "Python 3",
   "language": "python",
   "name": "python3"
  },
  "language_info": {
   "codemirror_mode": {
    "name": "ipython",
    "version": 2
   },
   "file_extension": ".py",
   "mimetype": "text/x-python",
   "name": "python",
   "nbconvert_exporter": "python",
   "pygments_lexer": "ipython2",
   "version": "2.7.6"
  },
  "pycharm": {
   "stem_cell": {
    "cell_type": "raw",
    "source": [],
    "metadata": {
     "collapsed": false
    }
   }
  }
 },
 "nbformat": 4,
 "nbformat_minor": 0
}